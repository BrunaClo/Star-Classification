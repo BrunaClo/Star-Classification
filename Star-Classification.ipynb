{
 "cells": [
  {
   "cell_type": "markdown",
   "metadata": {},
   "source": [
    "# Can We Predict The Star Type"
   ]
  },
  {
   "cell_type": "markdown",
   "metadata": {},
   "source": [
    "With ML techniques, we can categorize the stars between main sequence stars and giants.\n",
    "\n",
    "* Tasks you can do:\n",
    "1. Preprocess the Data\n",
    "    - Clean the Data (Null values, Errored values)\n",
    "    - Create Amag column via the equation\n",
    "    - Create a label column via SpType\n",
    "    \n",
    "    \n",
    "2. Analysis and Predict Star Type\n",
    "    - Try with Logistic Regression and create a decision boundary\n",
    "    - Performing deep neural network and create a decision boundary"
   ]
  },
  {
   "cell_type": "markdown",
   "metadata": {},
   "source": [
    "# 1. Process the Data "
   ]
  },
  {
   "cell_type": "markdown",
   "metadata": {},
   "source": [
    "#### Imporing Libraries"
   ]
  },
  {
   "cell_type": "code",
   "execution_count": 1,
   "metadata": {},
   "outputs": [],
   "source": [
    "import numpy as np\n",
    "import pandas as pd\n",
    "import matplotlib.pyplot as plt\n",
    "%matplotlib inline\n",
    "import seaborn as sns\n",
    "import os\n",
    "from IPython.display import Image, display\n",
    "from PIL import Image"
   ]
  },
  {
   "cell_type": "code",
   "execution_count": 2,
   "metadata": {},
   "outputs": [
    {
     "data": {
      "text/plain": [
       "'C:\\\\Users\\\\bruna\\\\IronHack\\\\GitHub\\\\Project\\\\Project 6\\\\Star-Classification'"
      ]
     },
     "execution_count": 2,
     "metadata": {},
     "output_type": "execute_result"
    }
   ],
   "source": [
    "os.getcwd()"
   ]
  },
  {
   "cell_type": "markdown",
   "metadata": {},
   "source": [
    "#### Loading dataset"
   ]
  },
  {
   "cell_type": "code",
   "execution_count": 3,
   "metadata": {},
   "outputs": [],
   "source": [
    "raw = pd.read_csv('../Star-Classification/Star99999_raw.csv')"
   ]
  },
  {
   "cell_type": "markdown",
   "metadata": {},
   "source": [
    "#### Exploring dataset"
   ]
  },
  {
   "cell_type": "code",
   "execution_count": 4,
   "metadata": {},
   "outputs": [
    {
     "data": {
      "text/html": [
       "<div>\n",
       "<style scoped>\n",
       "    .dataframe tbody tr th:only-of-type {\n",
       "        vertical-align: middle;\n",
       "    }\n",
       "\n",
       "    .dataframe tbody tr th {\n",
       "        vertical-align: top;\n",
       "    }\n",
       "\n",
       "    .dataframe thead th {\n",
       "        text-align: right;\n",
       "    }\n",
       "</style>\n",
       "<table border=\"1\" class=\"dataframe\">\n",
       "  <thead>\n",
       "    <tr style=\"text-align: right;\">\n",
       "      <th></th>\n",
       "      <th>Unnamed: 0</th>\n",
       "      <th>Vmag</th>\n",
       "      <th>Plx</th>\n",
       "      <th>e_Plx</th>\n",
       "      <th>B-V</th>\n",
       "      <th>SpType</th>\n",
       "    </tr>\n",
       "  </thead>\n",
       "  <tbody>\n",
       "    <tr>\n",
       "      <th>0</th>\n",
       "      <td>0</td>\n",
       "      <td>9.10</td>\n",
       "      <td>3.54</td>\n",
       "      <td>1.39</td>\n",
       "      <td>0.482</td>\n",
       "      <td>F5</td>\n",
       "    </tr>\n",
       "    <tr>\n",
       "      <th>1</th>\n",
       "      <td>1</td>\n",
       "      <td>9.27</td>\n",
       "      <td>21.90</td>\n",
       "      <td>3.10</td>\n",
       "      <td>0.999</td>\n",
       "      <td>K3V</td>\n",
       "    </tr>\n",
       "    <tr>\n",
       "      <th>2</th>\n",
       "      <td>2</td>\n",
       "      <td>6.61</td>\n",
       "      <td>2.81</td>\n",
       "      <td>0.63</td>\n",
       "      <td>-0.019</td>\n",
       "      <td>B9</td>\n",
       "    </tr>\n",
       "    <tr>\n",
       "      <th>3</th>\n",
       "      <td>3</td>\n",
       "      <td>8.06</td>\n",
       "      <td>7.75</td>\n",
       "      <td>0.97</td>\n",
       "      <td>0.370</td>\n",
       "      <td>F0V</td>\n",
       "    </tr>\n",
       "    <tr>\n",
       "      <th>4</th>\n",
       "      <td>4</td>\n",
       "      <td>8.55</td>\n",
       "      <td>2.87</td>\n",
       "      <td>1.11</td>\n",
       "      <td>0.902</td>\n",
       "      <td>G8III</td>\n",
       "    </tr>\n",
       "  </tbody>\n",
       "</table>\n",
       "</div>"
      ],
      "text/plain": [
       "   Unnamed: 0   Vmag      Plx   e_Plx     B-V SpType\n",
       "0           0   9.10     3.54    1.39   0.482     F5\n",
       "1           1   9.27    21.90    3.10   0.999    K3V\n",
       "2           2   6.61     2.81    0.63  -0.019     B9\n",
       "3           3   8.06     7.75    0.97   0.370    F0V\n",
       "4           4   8.55     2.87    1.11   0.902  G8III"
      ]
     },
     "execution_count": 4,
     "metadata": {},
     "output_type": "execute_result"
    }
   ],
   "source": [
    "raw.head()"
   ]
  },
  {
   "cell_type": "markdown",
   "metadata": {},
   "source": [
    "#### Columns:\n",
    "\n",
    "Vmag - Visual Apparent Magnitude of the Star (m)\n",
    "\n",
    "Plx - Distance Between the Star and the Earth (d)\n",
    "\n",
    "e_Plx - Standard Error of Plx (Drop the Row if you find the e_Plx is too high!)\n",
    "\n",
    "B-V - B-V color index. (A hot star has a B-V color index close to 0 or negative, while a cool star has a B-V color index close to 2.0. Other stars are somewhere in between.)\n",
    "\n",
    "SpType - Stellar classification."
   ]
  },
  {
   "cell_type": "code",
   "execution_count": 5,
   "metadata": {},
   "outputs": [
    {
     "name": "stdout",
     "output_type": "stream",
     "text": [
      "<class 'pandas.core.frame.DataFrame'>\n",
      "RangeIndex: 99999 entries, 0 to 99998\n",
      "Data columns (total 6 columns):\n",
      " #   Column      Non-Null Count  Dtype \n",
      "---  ------      --------------  ----- \n",
      " 0   Unnamed: 0  99999 non-null  int64 \n",
      " 1   Vmag        99999 non-null  object\n",
      " 2   Plx         99999 non-null  object\n",
      " 3   e_Plx       99999 non-null  object\n",
      " 4   B-V         99999 non-null  object\n",
      " 5   SpType      97377 non-null  object\n",
      "dtypes: int64(1), object(5)\n",
      "memory usage: 4.6+ MB\n"
     ]
    }
   ],
   "source": [
    "raw.info()"
   ]
  },
  {
   "cell_type": "markdown",
   "metadata": {},
   "source": [
    "# - Data Cleaning"
   ]
  },
  {
   "cell_type": "markdown",
   "metadata": {},
   "source": [
    "#### Let's change the columns name to better manipulation"
   ]
  },
  {
   "cell_type": "code",
   "execution_count": 6,
   "metadata": {},
   "outputs": [],
   "source": [
    "raw.rename(columns={'B-V':'B_V'}, inplace = True)"
   ]
  },
  {
   "cell_type": "markdown",
   "metadata": {},
   "source": [
    "#### converting object type columns to numeric"
   ]
  },
  {
   "cell_type": "code",
   "execution_count": 7,
   "metadata": {},
   "outputs": [],
   "source": [
    "raw.Vmag = pd.to_numeric(raw.Vmag, downcast='float', errors ='coerce')\n",
    "raw.Plx = pd.to_numeric(raw.Plx, downcast='float', errors ='coerce')\n",
    "raw.e_Plx = pd.to_numeric(raw.e_Plx, downcast='float', errors ='coerce')\n",
    "raw['B_V'] = pd.to_numeric(raw['B_V'], downcast='float', errors ='coerce')"
   ]
  },
  {
   "cell_type": "code",
   "execution_count": 8,
   "metadata": {},
   "outputs": [
    {
     "name": "stdout",
     "output_type": "stream",
     "text": [
      "<class 'pandas.core.frame.DataFrame'>\n",
      "RangeIndex: 99999 entries, 0 to 99998\n",
      "Data columns (total 6 columns):\n",
      " #   Column      Non-Null Count  Dtype  \n",
      "---  ------      --------------  -----  \n",
      " 0   Unnamed: 0  99999 non-null  int64  \n",
      " 1   Vmag        99998 non-null  float32\n",
      " 2   Plx         99768 non-null  float32\n",
      " 3   e_Plx       99768 non-null  float32\n",
      " 4   B_V         98871 non-null  float32\n",
      " 5   SpType      97377 non-null  object \n",
      "dtypes: float32(4), int64(1), object(1)\n",
      "memory usage: 3.1+ MB\n"
     ]
    }
   ],
   "source": [
    "raw.info()"
   ]
  },
  {
   "cell_type": "code",
   "execution_count": 9,
   "metadata": {},
   "outputs": [
    {
     "data": {
      "text/html": [
       "<div>\n",
       "<style scoped>\n",
       "    .dataframe tbody tr th:only-of-type {\n",
       "        vertical-align: middle;\n",
       "    }\n",
       "\n",
       "    .dataframe tbody tr th {\n",
       "        vertical-align: top;\n",
       "    }\n",
       "\n",
       "    .dataframe thead th {\n",
       "        text-align: right;\n",
       "    }\n",
       "</style>\n",
       "<table border=\"1\" class=\"dataframe\">\n",
       "  <thead>\n",
       "    <tr style=\"text-align: right;\">\n",
       "      <th></th>\n",
       "      <th>count</th>\n",
       "      <th>mean</th>\n",
       "      <th>std</th>\n",
       "      <th>min</th>\n",
       "      <th>25%</th>\n",
       "      <th>50%</th>\n",
       "      <th>75%</th>\n",
       "      <th>max</th>\n",
       "    </tr>\n",
       "  </thead>\n",
       "  <tbody>\n",
       "    <tr>\n",
       "      <th>Unnamed: 0</th>\n",
       "      <td>99999.0</td>\n",
       "      <td>49999.000</td>\n",
       "      <td>28867.369</td>\n",
       "      <td>0.00</td>\n",
       "      <td>24999.500</td>\n",
       "      <td>49999.000</td>\n",
       "      <td>74998.500</td>\n",
       "      <td>99998.00</td>\n",
       "    </tr>\n",
       "    <tr>\n",
       "      <th>Vmag</th>\n",
       "      <td>99998.0</td>\n",
       "      <td>8.370</td>\n",
       "      <td>1.314</td>\n",
       "      <td>-1.44</td>\n",
       "      <td>7.640</td>\n",
       "      <td>8.440</td>\n",
       "      <td>9.140</td>\n",
       "      <td>14.08</td>\n",
       "    </tr>\n",
       "    <tr>\n",
       "      <th>Plx</th>\n",
       "      <td>99768.0</td>\n",
       "      <td>7.212</td>\n",
       "      <td>11.349</td>\n",
       "      <td>-54.95</td>\n",
       "      <td>2.510</td>\n",
       "      <td>4.630</td>\n",
       "      <td>8.410</td>\n",
       "      <td>772.33</td>\n",
       "    </tr>\n",
       "    <tr>\n",
       "      <th>e_Plx</th>\n",
       "      <td>99768.0</td>\n",
       "      <td>1.365</td>\n",
       "      <td>1.817</td>\n",
       "      <td>0.38</td>\n",
       "      <td>0.880</td>\n",
       "      <td>1.100</td>\n",
       "      <td>1.390</td>\n",
       "      <td>114.46</td>\n",
       "    </tr>\n",
       "    <tr>\n",
       "      <th>B_V</th>\n",
       "      <td>98871.0</td>\n",
       "      <td>0.705</td>\n",
       "      <td>0.490</td>\n",
       "      <td>-0.40</td>\n",
       "      <td>0.348</td>\n",
       "      <td>0.612</td>\n",
       "      <td>1.075</td>\n",
       "      <td>5.46</td>\n",
       "    </tr>\n",
       "  </tbody>\n",
       "</table>\n",
       "</div>"
      ],
      "text/plain": [
       "              count       mean        std    min        25%        50%  \\\n",
       "Unnamed: 0  99999.0  49999.000  28867.369   0.00  24999.500  49999.000   \n",
       "Vmag        99998.0      8.370      1.314  -1.44      7.640      8.440   \n",
       "Plx         99768.0      7.212     11.349 -54.95      2.510      4.630   \n",
       "e_Plx       99768.0      1.365      1.817   0.38      0.880      1.100   \n",
       "B_V         98871.0      0.705      0.490  -0.40      0.348      0.612   \n",
       "\n",
       "                  75%       max  \n",
       "Unnamed: 0  74998.500  99998.00  \n",
       "Vmag            9.140     14.08  \n",
       "Plx             8.410    772.33  \n",
       "e_Plx           1.390    114.46  \n",
       "B_V             1.075      5.46  "
      ]
     },
     "execution_count": 9,
     "metadata": {},
     "output_type": "execute_result"
    }
   ],
   "source": [
    "raw.describe().T.round(3)"
   ]
  },
  {
   "cell_type": "markdown",
   "metadata": {},
   "source": [
    "#### Checking for missing values"
   ]
  },
  {
   "cell_type": "code",
   "execution_count": 10,
   "metadata": {
    "scrolled": false
   },
   "outputs": [
    {
     "data": {
      "text/plain": [
       "Unnamed: 0       0\n",
       "Vmag             1\n",
       "Plx            231\n",
       "e_Plx          231\n",
       "B_V           1128\n",
       "SpType        2622\n",
       "dtype: int64"
      ]
     },
     "execution_count": 10,
     "metadata": {},
     "output_type": "execute_result"
    }
   ],
   "source": [
    "raw.isnull().sum()"
   ]
  },
  {
   "cell_type": "code",
   "execution_count": 11,
   "metadata": {},
   "outputs": [
    {
     "data": {
      "text/plain": [
       "(99999, 6)"
      ]
     },
     "execution_count": 11,
     "metadata": {},
     "output_type": "execute_result"
    }
   ],
   "source": [
    "raw.shape"
   ]
  },
  {
   "cell_type": "code",
   "execution_count": 12,
   "metadata": {
    "scrolled": true
   },
   "outputs": [
    {
     "data": {
      "text/plain": [
       "599994"
      ]
     },
     "execution_count": 12,
     "metadata": {},
     "output_type": "execute_result"
    }
   ],
   "source": [
    "np.product(raw.shape)"
   ]
  },
  {
   "cell_type": "markdown",
   "metadata": {},
   "source": [
    "#### What is the % of the missing data"
   ]
  },
  {
   "cell_type": "code",
   "execution_count": 13,
   "metadata": {},
   "outputs": [],
   "source": [
    "total_cells = np.product(raw.shape)\n",
    "total_missing = raw.isnull().sum().sum()\n",
    "percent_missing = (total_missing/total_cells)* 100"
   ]
  },
  {
   "cell_type": "code",
   "execution_count": 14,
   "metadata": {},
   "outputs": [
    {
     "name": "stdout",
     "output_type": "stream",
     "text": [
      "Missing data equals: 0.7%\n"
     ]
    }
   ],
   "source": [
    "print(f'Missing data equals: {round(percent_missing,2)}%' )"
   ]
  },
  {
   "cell_type": "markdown",
   "metadata": {},
   "source": [
    "#### Pourcentage insignificant, so lets drop it those rows"
   ]
  },
  {
   "cell_type": "code",
   "execution_count": 15,
   "metadata": {},
   "outputs": [],
   "source": [
    "raw_missing_removed = raw.dropna()"
   ]
  },
  {
   "cell_type": "code",
   "execution_count": 16,
   "metadata": {},
   "outputs": [
    {
     "data": {
      "text/plain": [
       "(96742, 6)"
      ]
     },
     "execution_count": 16,
     "metadata": {},
     "output_type": "execute_result"
    }
   ],
   "source": [
    "raw_missing_removed.shape"
   ]
  },
  {
   "cell_type": "code",
   "execution_count": 17,
   "metadata": {},
   "outputs": [
    {
     "data": {
      "text/plain": [
       "Unnamed: 0    0\n",
       "Vmag          0\n",
       "Plx           0\n",
       "e_Plx         0\n",
       "B_V           0\n",
       "SpType        0\n",
       "dtype: int64"
      ]
     },
     "execution_count": 17,
     "metadata": {},
     "output_type": "execute_result"
    }
   ],
   "source": [
    "raw_missing_removed.isnull().sum()"
   ]
  },
  {
   "cell_type": "markdown",
   "metadata": {},
   "source": [
    "#### How many rows did we dropped?"
   ]
  },
  {
   "cell_type": "code",
   "execution_count": 18,
   "metadata": {},
   "outputs": [],
   "source": [
    "dropped_rows = raw.shape[0] - raw_missing_removed.shape[0]"
   ]
  },
  {
   "cell_type": "code",
   "execution_count": 19,
   "metadata": {},
   "outputs": [
    {
     "name": "stdout",
     "output_type": "stream",
     "text": [
      "We dropped : 3257 rows\n"
     ]
    }
   ],
   "source": [
    "print(f'We dropped : {dropped_rows} rows')"
   ]
  },
  {
   "cell_type": "markdown",
   "metadata": {},
   "source": [
    "#### What is the pourcentage of this amount? "
   ]
  },
  {
   "cell_type": "code",
   "execution_count": 20,
   "metadata": {},
   "outputs": [],
   "source": [
    "pourcentage_dropped_rows = ((raw.shape[0] - raw_missing_removed.shape[0])/raw.shape[0])*100"
   ]
  },
  {
   "cell_type": "code",
   "execution_count": 21,
   "metadata": {
    "scrolled": true
   },
   "outputs": [
    {
     "name": "stdout",
     "output_type": "stream",
     "text": [
      "Dropped rows equals : 3.26 %\n"
     ]
    }
   ],
   "source": [
    "print(f'Dropped rows equals : {round(pourcentage_dropped_rows,2)} %')"
   ]
  },
  {
   "cell_type": "markdown",
   "metadata": {},
   "source": [
    "#### Checking for duplicated"
   ]
  },
  {
   "cell_type": "code",
   "execution_count": 22,
   "metadata": {
    "scrolled": false
   },
   "outputs": [
    {
     "data": {
      "text/plain": [
       "0"
      ]
     },
     "execution_count": 22,
     "metadata": {},
     "output_type": "execute_result"
    }
   ],
   "source": [
    "raw_missing_removed.duplicated().sum()"
   ]
  },
  {
   "cell_type": "markdown",
   "metadata": {},
   "source": [
    "#### But after dropping so many rows our index must be weird"
   ]
  },
  {
   "cell_type": "markdown",
   "metadata": {},
   "source": [
    "#### Let's ReIndex it"
   ]
  },
  {
   "cell_type": "code",
   "execution_count": 23,
   "metadata": {},
   "outputs": [],
   "source": [
    "raw_missing_removed.reset_index(drop=True, inplace = True)"
   ]
  },
  {
   "cell_type": "code",
   "execution_count": 24,
   "metadata": {},
   "outputs": [
    {
     "name": "stdout",
     "output_type": "stream",
     "text": [
      "<class 'pandas.core.frame.DataFrame'>\n",
      "RangeIndex: 96742 entries, 0 to 96741\n",
      "Data columns (total 6 columns):\n",
      " #   Column      Non-Null Count  Dtype  \n",
      "---  ------      --------------  -----  \n",
      " 0   Unnamed: 0  96742 non-null  int64  \n",
      " 1   Vmag        96742 non-null  float32\n",
      " 2   Plx         96742 non-null  float32\n",
      " 3   e_Plx       96742 non-null  float32\n",
      " 4   B_V         96742 non-null  float32\n",
      " 5   SpType      96742 non-null  object \n",
      "dtypes: float32(4), int64(1), object(1)\n",
      "memory usage: 3.0+ MB\n"
     ]
    }
   ],
   "source": [
    "raw_missing_removed.info()"
   ]
  },
  {
   "cell_type": "markdown",
   "metadata": {},
   "source": [
    "#### Are there any useless columns?"
   ]
  },
  {
   "cell_type": "code",
   "execution_count": 25,
   "metadata": {},
   "outputs": [
    {
     "data": {
      "text/html": [
       "<div>\n",
       "<style scoped>\n",
       "    .dataframe tbody tr th:only-of-type {\n",
       "        vertical-align: middle;\n",
       "    }\n",
       "\n",
       "    .dataframe tbody tr th {\n",
       "        vertical-align: top;\n",
       "    }\n",
       "\n",
       "    .dataframe thead th {\n",
       "        text-align: right;\n",
       "    }\n",
       "</style>\n",
       "<table border=\"1\" class=\"dataframe\">\n",
       "  <thead>\n",
       "    <tr style=\"text-align: right;\">\n",
       "      <th></th>\n",
       "      <th>Unnamed: 0</th>\n",
       "      <th>Vmag</th>\n",
       "      <th>Plx</th>\n",
       "      <th>e_Plx</th>\n",
       "      <th>B_V</th>\n",
       "      <th>SpType</th>\n",
       "    </tr>\n",
       "  </thead>\n",
       "  <tbody>\n",
       "    <tr>\n",
       "      <th>0</th>\n",
       "      <td>0</td>\n",
       "      <td>9.10</td>\n",
       "      <td>3.54</td>\n",
       "      <td>1.39</td>\n",
       "      <td>0.482</td>\n",
       "      <td>F5</td>\n",
       "    </tr>\n",
       "    <tr>\n",
       "      <th>1</th>\n",
       "      <td>1</td>\n",
       "      <td>9.27</td>\n",
       "      <td>21.90</td>\n",
       "      <td>3.10</td>\n",
       "      <td>0.999</td>\n",
       "      <td>K3V</td>\n",
       "    </tr>\n",
       "    <tr>\n",
       "      <th>2</th>\n",
       "      <td>2</td>\n",
       "      <td>6.61</td>\n",
       "      <td>2.81</td>\n",
       "      <td>0.63</td>\n",
       "      <td>-0.019</td>\n",
       "      <td>B9</td>\n",
       "    </tr>\n",
       "    <tr>\n",
       "      <th>3</th>\n",
       "      <td>3</td>\n",
       "      <td>8.06</td>\n",
       "      <td>7.75</td>\n",
       "      <td>0.97</td>\n",
       "      <td>0.370</td>\n",
       "      <td>F0V</td>\n",
       "    </tr>\n",
       "    <tr>\n",
       "      <th>4</th>\n",
       "      <td>4</td>\n",
       "      <td>8.55</td>\n",
       "      <td>2.87</td>\n",
       "      <td>1.11</td>\n",
       "      <td>0.902</td>\n",
       "      <td>G8III</td>\n",
       "    </tr>\n",
       "  </tbody>\n",
       "</table>\n",
       "</div>"
      ],
      "text/plain": [
       "   Unnamed: 0  Vmag    Plx  e_Plx    B_V SpType\n",
       "0           0  9.10   3.54   1.39  0.482     F5\n",
       "1           1  9.27  21.90   3.10  0.999    K3V\n",
       "2           2  6.61   2.81   0.63 -0.019     B9\n",
       "3           3  8.06   7.75   0.97  0.370    F0V\n",
       "4           4  8.55   2.87   1.11  0.902  G8III"
      ]
     },
     "execution_count": 25,
     "metadata": {},
     "output_type": "execute_result"
    }
   ],
   "source": [
    "raw_missing_removed.head()"
   ]
  },
  {
   "cell_type": "code",
   "execution_count": 26,
   "metadata": {},
   "outputs": [
    {
     "data": {
      "text/html": [
       "<div>\n",
       "<style scoped>\n",
       "    .dataframe tbody tr th:only-of-type {\n",
       "        vertical-align: middle;\n",
       "    }\n",
       "\n",
       "    .dataframe tbody tr th {\n",
       "        vertical-align: top;\n",
       "    }\n",
       "\n",
       "    .dataframe thead th {\n",
       "        text-align: right;\n",
       "    }\n",
       "</style>\n",
       "<table border=\"1\" class=\"dataframe\">\n",
       "  <thead>\n",
       "    <tr style=\"text-align: right;\">\n",
       "      <th></th>\n",
       "      <th>Unnamed: 0</th>\n",
       "      <th>Vmag</th>\n",
       "      <th>Plx</th>\n",
       "      <th>e_Plx</th>\n",
       "      <th>B_V</th>\n",
       "      <th>SpType</th>\n",
       "    </tr>\n",
       "  </thead>\n",
       "  <tbody>\n",
       "    <tr>\n",
       "      <th>96737</th>\n",
       "      <td>99993</td>\n",
       "      <td>7.92</td>\n",
       "      <td>3.93</td>\n",
       "      <td>1.24</td>\n",
       "      <td>0.133</td>\n",
       "      <td>Am...</td>\n",
       "    </tr>\n",
       "    <tr>\n",
       "      <th>96738</th>\n",
       "      <td>99994</td>\n",
       "      <td>8.72</td>\n",
       "      <td>3.07</td>\n",
       "      <td>0.87</td>\n",
       "      <td>0.097</td>\n",
       "      <td>B3</td>\n",
       "    </tr>\n",
       "    <tr>\n",
       "      <th>96739</th>\n",
       "      <td>99996</td>\n",
       "      <td>8.08</td>\n",
       "      <td>1.07</td>\n",
       "      <td>0.68</td>\n",
       "      <td>1.094</td>\n",
       "      <td>G5</td>\n",
       "    </tr>\n",
       "    <tr>\n",
       "      <th>96740</th>\n",
       "      <td>99997</td>\n",
       "      <td>6.98</td>\n",
       "      <td>2.97</td>\n",
       "      <td>0.76</td>\n",
       "      <td>-0.143</td>\n",
       "      <td>B1.5V</td>\n",
       "    </tr>\n",
       "    <tr>\n",
       "      <th>96741</th>\n",
       "      <td>99998</td>\n",
       "      <td>8.51</td>\n",
       "      <td>-1.18</td>\n",
       "      <td>1.34</td>\n",
       "      <td>1.568</td>\n",
       "      <td>K5/M0III</td>\n",
       "    </tr>\n",
       "  </tbody>\n",
       "</table>\n",
       "</div>"
      ],
      "text/plain": [
       "       Unnamed: 0  Vmag   Plx  e_Plx    B_V    SpType\n",
       "96737       99993  7.92  3.93   1.24  0.133     Am...\n",
       "96738       99994  8.72  3.07   0.87  0.097        B3\n",
       "96739       99996  8.08  1.07   0.68  1.094        G5\n",
       "96740       99997  6.98  2.97   0.76 -0.143     B1.5V\n",
       "96741       99998  8.51 -1.18   1.34  1.568  K5/M0III"
      ]
     },
     "execution_count": 26,
     "metadata": {},
     "output_type": "execute_result"
    }
   ],
   "source": [
    "raw_missing_removed.tail()"
   ]
  },
  {
   "cell_type": "markdown",
   "metadata": {},
   "source": [
    "### Unnamed: 0 is a index columns :\n",
    "\n",
    "but we already have it so let's dropt it\n"
   ]
  },
  {
   "cell_type": "code",
   "execution_count": 27,
   "metadata": {},
   "outputs": [
    {
     "name": "stderr",
     "output_type": "stream",
     "text": [
      "C:\\Users\\bruna\\anaconda3\\lib\\site-packages\\pandas\\core\\frame.py:4163: SettingWithCopyWarning: \n",
      "A value is trying to be set on a copy of a slice from a DataFrame\n",
      "\n",
      "See the caveats in the documentation: https://pandas.pydata.org/pandas-docs/stable/user_guide/indexing.html#returning-a-view-versus-a-copy\n",
      "  return super().drop(\n"
     ]
    }
   ],
   "source": [
    "raw_missing_removed.drop('Unnamed: 0', axis = 1, inplace = True)"
   ]
  },
  {
   "cell_type": "code",
   "execution_count": 28,
   "metadata": {},
   "outputs": [
    {
     "data": {
      "text/html": [
       "<div>\n",
       "<style scoped>\n",
       "    .dataframe tbody tr th:only-of-type {\n",
       "        vertical-align: middle;\n",
       "    }\n",
       "\n",
       "    .dataframe tbody tr th {\n",
       "        vertical-align: top;\n",
       "    }\n",
       "\n",
       "    .dataframe thead th {\n",
       "        text-align: right;\n",
       "    }\n",
       "</style>\n",
       "<table border=\"1\" class=\"dataframe\">\n",
       "  <thead>\n",
       "    <tr style=\"text-align: right;\">\n",
       "      <th></th>\n",
       "      <th>Vmag</th>\n",
       "      <th>Plx</th>\n",
       "      <th>e_Plx</th>\n",
       "      <th>B_V</th>\n",
       "      <th>SpType</th>\n",
       "    </tr>\n",
       "  </thead>\n",
       "  <tbody>\n",
       "    <tr>\n",
       "      <th>0</th>\n",
       "      <td>9.10</td>\n",
       "      <td>3.54</td>\n",
       "      <td>1.39</td>\n",
       "      <td>0.482</td>\n",
       "      <td>F5</td>\n",
       "    </tr>\n",
       "    <tr>\n",
       "      <th>1</th>\n",
       "      <td>9.27</td>\n",
       "      <td>21.90</td>\n",
       "      <td>3.10</td>\n",
       "      <td>0.999</td>\n",
       "      <td>K3V</td>\n",
       "    </tr>\n",
       "    <tr>\n",
       "      <th>2</th>\n",
       "      <td>6.61</td>\n",
       "      <td>2.81</td>\n",
       "      <td>0.63</td>\n",
       "      <td>-0.019</td>\n",
       "      <td>B9</td>\n",
       "    </tr>\n",
       "    <tr>\n",
       "      <th>3</th>\n",
       "      <td>8.06</td>\n",
       "      <td>7.75</td>\n",
       "      <td>0.97</td>\n",
       "      <td>0.370</td>\n",
       "      <td>F0V</td>\n",
       "    </tr>\n",
       "    <tr>\n",
       "      <th>4</th>\n",
       "      <td>8.55</td>\n",
       "      <td>2.87</td>\n",
       "      <td>1.11</td>\n",
       "      <td>0.902</td>\n",
       "      <td>G8III</td>\n",
       "    </tr>\n",
       "  </tbody>\n",
       "</table>\n",
       "</div>"
      ],
      "text/plain": [
       "   Vmag    Plx  e_Plx    B_V SpType\n",
       "0  9.10   3.54   1.39  0.482     F5\n",
       "1  9.27  21.90   3.10  0.999    K3V\n",
       "2  6.61   2.81   0.63 -0.019     B9\n",
       "3  8.06   7.75   0.97  0.370    F0V\n",
       "4  8.55   2.87   1.11  0.902  G8III"
      ]
     },
     "execution_count": 28,
     "metadata": {},
     "output_type": "execute_result"
    }
   ],
   "source": [
    "raw_missing_removed.head()"
   ]
  },
  {
   "cell_type": "markdown",
   "metadata": {},
   "source": [
    "# Data Cleaned "
   ]
  },
  {
   "cell_type": "markdown",
   "metadata": {},
   "source": [
    "## - Let's Create Amag column via the equation"
   ]
  },
  {
   "cell_type": "markdown",
   "metadata": {},
   "source": [
    "### Equation asks for log of Plx(d) (which is the distance between the star and the Earth)"
   ]
  },
  {
   "cell_type": "markdown",
   "metadata": {},
   "source": [
    "### But log of 0 is infinite and we can't use it\n",
    "\n",
    "So let's not consider theses rows"
   ]
  },
  {
   "cell_type": "code",
   "execution_count": 29,
   "metadata": {},
   "outputs": [],
   "source": [
    "raw_missing_removed = raw_missing_removed.query('Plx != 0')"
   ]
  },
  {
   "cell_type": "code",
   "execution_count": 30,
   "metadata": {},
   "outputs": [
    {
     "data": {
      "text/html": [
       "<div>\n",
       "<style scoped>\n",
       "    .dataframe tbody tr th:only-of-type {\n",
       "        vertical-align: middle;\n",
       "    }\n",
       "\n",
       "    .dataframe tbody tr th {\n",
       "        vertical-align: top;\n",
       "    }\n",
       "\n",
       "    .dataframe thead th {\n",
       "        text-align: right;\n",
       "    }\n",
       "</style>\n",
       "<table border=\"1\" class=\"dataframe\">\n",
       "  <thead>\n",
       "    <tr style=\"text-align: right;\">\n",
       "      <th></th>\n",
       "      <th>Vmag</th>\n",
       "      <th>Plx</th>\n",
       "      <th>e_Plx</th>\n",
       "      <th>B_V</th>\n",
       "      <th>SpType</th>\n",
       "    </tr>\n",
       "  </thead>\n",
       "  <tbody>\n",
       "    <tr>\n",
       "      <th>0</th>\n",
       "      <td>9.10</td>\n",
       "      <td>3.54</td>\n",
       "      <td>1.39</td>\n",
       "      <td>0.482</td>\n",
       "      <td>F5</td>\n",
       "    </tr>\n",
       "    <tr>\n",
       "      <th>1</th>\n",
       "      <td>9.27</td>\n",
       "      <td>21.90</td>\n",
       "      <td>3.10</td>\n",
       "      <td>0.999</td>\n",
       "      <td>K3V</td>\n",
       "    </tr>\n",
       "    <tr>\n",
       "      <th>2</th>\n",
       "      <td>6.61</td>\n",
       "      <td>2.81</td>\n",
       "      <td>0.63</td>\n",
       "      <td>-0.019</td>\n",
       "      <td>B9</td>\n",
       "    </tr>\n",
       "    <tr>\n",
       "      <th>3</th>\n",
       "      <td>8.06</td>\n",
       "      <td>7.75</td>\n",
       "      <td>0.97</td>\n",
       "      <td>0.370</td>\n",
       "      <td>F0V</td>\n",
       "    </tr>\n",
       "    <tr>\n",
       "      <th>4</th>\n",
       "      <td>8.55</td>\n",
       "      <td>2.87</td>\n",
       "      <td>1.11</td>\n",
       "      <td>0.902</td>\n",
       "      <td>G8III</td>\n",
       "    </tr>\n",
       "    <tr>\n",
       "      <th>...</th>\n",
       "      <td>...</td>\n",
       "      <td>...</td>\n",
       "      <td>...</td>\n",
       "      <td>...</td>\n",
       "      <td>...</td>\n",
       "    </tr>\n",
       "    <tr>\n",
       "      <th>96737</th>\n",
       "      <td>7.92</td>\n",
       "      <td>3.93</td>\n",
       "      <td>1.24</td>\n",
       "      <td>0.133</td>\n",
       "      <td>Am...</td>\n",
       "    </tr>\n",
       "    <tr>\n",
       "      <th>96738</th>\n",
       "      <td>8.72</td>\n",
       "      <td>3.07</td>\n",
       "      <td>0.87</td>\n",
       "      <td>0.097</td>\n",
       "      <td>B3</td>\n",
       "    </tr>\n",
       "    <tr>\n",
       "      <th>96739</th>\n",
       "      <td>8.08</td>\n",
       "      <td>1.07</td>\n",
       "      <td>0.68</td>\n",
       "      <td>1.094</td>\n",
       "      <td>G5</td>\n",
       "    </tr>\n",
       "    <tr>\n",
       "      <th>96740</th>\n",
       "      <td>6.98</td>\n",
       "      <td>2.97</td>\n",
       "      <td>0.76</td>\n",
       "      <td>-0.143</td>\n",
       "      <td>B1.5V</td>\n",
       "    </tr>\n",
       "    <tr>\n",
       "      <th>96741</th>\n",
       "      <td>8.51</td>\n",
       "      <td>-1.18</td>\n",
       "      <td>1.34</td>\n",
       "      <td>1.568</td>\n",
       "      <td>K5/M0III</td>\n",
       "    </tr>\n",
       "  </tbody>\n",
       "</table>\n",
       "<p>96707 rows × 5 columns</p>\n",
       "</div>"
      ],
      "text/plain": [
       "       Vmag    Plx  e_Plx    B_V    SpType\n",
       "0      9.10   3.54   1.39  0.482        F5\n",
       "1      9.27  21.90   3.10  0.999       K3V\n",
       "2      6.61   2.81   0.63 -0.019        B9\n",
       "3      8.06   7.75   0.97  0.370       F0V\n",
       "4      8.55   2.87   1.11  0.902     G8III\n",
       "...     ...    ...    ...    ...       ...\n",
       "96737  7.92   3.93   1.24  0.133     Am...\n",
       "96738  8.72   3.07   0.87  0.097        B3\n",
       "96739  8.08   1.07   0.68  1.094        G5\n",
       "96740  6.98   2.97   0.76 -0.143     B1.5V\n",
       "96741  8.51  -1.18   1.34  1.568  K5/M0III\n",
       "\n",
       "[96707 rows x 5 columns]"
      ]
     },
     "execution_count": 30,
     "metadata": {},
     "output_type": "execute_result"
    }
   ],
   "source": [
    "raw_missing_removed"
   ]
  },
  {
   "cell_type": "code",
   "execution_count": 31,
   "metadata": {},
   "outputs": [],
   "source": [
    "raw_missing_removed.reset_index(drop = True, inplace = True)"
   ]
  },
  {
   "cell_type": "code",
   "execution_count": 32,
   "metadata": {},
   "outputs": [
    {
     "name": "stdout",
     "output_type": "stream",
     "text": [
      "<class 'pandas.core.frame.DataFrame'>\n",
      "RangeIndex: 96707 entries, 0 to 96706\n",
      "Data columns (total 5 columns):\n",
      " #   Column  Non-Null Count  Dtype  \n",
      "---  ------  --------------  -----  \n",
      " 0   Vmag    96707 non-null  float32\n",
      " 1   Plx     96707 non-null  float32\n",
      " 2   e_Plx   96707 non-null  float32\n",
      " 3   B_V     96707 non-null  float32\n",
      " 4   SpType  96707 non-null  object \n",
      "dtypes: float32(4), object(1)\n",
      "memory usage: 2.2+ MB\n"
     ]
    }
   ],
   "source": [
    "raw_missing_removed.info()"
   ]
  },
  {
   "cell_type": "markdown",
   "metadata": {},
   "source": [
    "### Let's Calculate the Amag Value"
   ]
  },
  {
   "cell_type": "markdown",
   "metadata": {},
   "source": [
    "#### The Plx is in Milliarcsecond (mas) and we need it in Parsecs (pc)"
   ]
  },
  {
   "cell_type": "markdown",
   "metadata": {},
   "source": [
    "#### 1 pc = 1 arsecs (arcsecond)\n",
    "#### So we need to divide the Plx by 1000"
   ]
  },
  {
   "cell_type": "code",
   "execution_count": 35,
   "metadata": {},
   "outputs": [],
   "source": [
    "df = raw_missing_removed"
   ]
  },
  {
   "cell_type": "code",
   "execution_count": 36,
   "metadata": {},
   "outputs": [],
   "source": [
    "df['Plx'] = df['Plx'].map(lambda x : x/1000)"
   ]
  },
  {
   "cell_type": "code",
   "execution_count": 37,
   "metadata": {
    "scrolled": true
   },
   "outputs": [
    {
     "data": {
      "text/html": [
       "<div>\n",
       "<style scoped>\n",
       "    .dataframe tbody tr th:only-of-type {\n",
       "        vertical-align: middle;\n",
       "    }\n",
       "\n",
       "    .dataframe tbody tr th {\n",
       "        vertical-align: top;\n",
       "    }\n",
       "\n",
       "    .dataframe thead th {\n",
       "        text-align: right;\n",
       "    }\n",
       "</style>\n",
       "<table border=\"1\" class=\"dataframe\">\n",
       "  <thead>\n",
       "    <tr style=\"text-align: right;\">\n",
       "      <th></th>\n",
       "      <th>Vmag</th>\n",
       "      <th>Plx</th>\n",
       "      <th>e_Plx</th>\n",
       "      <th>B_V</th>\n",
       "      <th>SpType</th>\n",
       "    </tr>\n",
       "  </thead>\n",
       "  <tbody>\n",
       "    <tr>\n",
       "      <th>0</th>\n",
       "      <td>9.10</td>\n",
       "      <td>0.00354</td>\n",
       "      <td>1.39</td>\n",
       "      <td>0.482</td>\n",
       "      <td>F5</td>\n",
       "    </tr>\n",
       "    <tr>\n",
       "      <th>1</th>\n",
       "      <td>9.27</td>\n",
       "      <td>0.02190</td>\n",
       "      <td>3.10</td>\n",
       "      <td>0.999</td>\n",
       "      <td>K3V</td>\n",
       "    </tr>\n",
       "    <tr>\n",
       "      <th>2</th>\n",
       "      <td>6.61</td>\n",
       "      <td>0.00281</td>\n",
       "      <td>0.63</td>\n",
       "      <td>-0.019</td>\n",
       "      <td>B9</td>\n",
       "    </tr>\n",
       "    <tr>\n",
       "      <th>3</th>\n",
       "      <td>8.06</td>\n",
       "      <td>0.00775</td>\n",
       "      <td>0.97</td>\n",
       "      <td>0.370</td>\n",
       "      <td>F0V</td>\n",
       "    </tr>\n",
       "    <tr>\n",
       "      <th>4</th>\n",
       "      <td>8.55</td>\n",
       "      <td>0.00287</td>\n",
       "      <td>1.11</td>\n",
       "      <td>0.902</td>\n",
       "      <td>G8III</td>\n",
       "    </tr>\n",
       "  </tbody>\n",
       "</table>\n",
       "</div>"
      ],
      "text/plain": [
       "   Vmag      Plx  e_Plx    B_V SpType\n",
       "0  9.10  0.00354   1.39  0.482     F5\n",
       "1  9.27  0.02190   3.10  0.999    K3V\n",
       "2  6.61  0.00281   0.63 -0.019     B9\n",
       "3  8.06  0.00775   0.97  0.370    F0V\n",
       "4  8.55  0.00287   1.11  0.902  G8III"
      ]
     },
     "execution_count": 37,
     "metadata": {},
     "output_type": "execute_result"
    }
   ],
   "source": [
    "df.head()"
   ]
  },
  {
   "cell_type": "code",
   "execution_count": 38,
   "metadata": {},
   "outputs": [
    {
     "data": {
      "image/png": "[encoded data removed]",
      "text/plain": [
       "<PIL.JpegImagePlugin.JpegImageFile image mode=RGB size=1025x102 at 0x2BC154B0910>"
      ]
     },
     "metadata": {},
     "output_type": "display_data"
    }
   ],
   "source": [
    "display(Image.open('../Star-Classification/Amag.JPG'))"
   ]
  },
  {
   "cell_type": "code",
   "execution_count": 39,
   "metadata": {},
   "outputs": [
    {
     "name": "stderr",
     "output_type": "stream",
     "text": [
      "C:\\Users\\bruna\\anaconda3\\lib\\site-packages\\pandas\\core\\series.py:726: RuntimeWarning: invalid value encountered in log10\n",
      "  result = getattr(ufunc, method)(*inputs, **kwargs)\n"
     ]
    }
   ],
   "source": [
    "df['Amag'] = df.Vmag + 5 *(np.log10(df.Plx)+1)"
   ]
  },
  {
   "cell_type": "code",
   "execution_count": 40,
   "metadata": {},
   "outputs": [
    {
     "data": {
      "text/html": [
       "<div>\n",
       "<style scoped>\n",
       "    .dataframe tbody tr th:only-of-type {\n",
       "        vertical-align: middle;\n",
       "    }\n",
       "\n",
       "    .dataframe tbody tr th {\n",
       "        vertical-align: top;\n",
       "    }\n",
       "\n",
       "    .dataframe thead th {\n",
       "        text-align: right;\n",
       "    }\n",
       "</style>\n",
       "<table border=\"1\" class=\"dataframe\">\n",
       "  <thead>\n",
       "    <tr style=\"text-align: right;\">\n",
       "      <th></th>\n",
       "      <th>Vmag</th>\n",
       "      <th>Plx</th>\n",
       "      <th>e_Plx</th>\n",
       "      <th>B_V</th>\n",
       "      <th>Amag</th>\n",
       "    </tr>\n",
       "  </thead>\n",
       "  <tbody>\n",
       "    <tr>\n",
       "      <th>count</th>\n",
       "      <td>96707.000000</td>\n",
       "      <td>96707.000000</td>\n",
       "      <td>96707.000000</td>\n",
       "      <td>96707.000000</td>\n",
       "      <td>93556.000000</td>\n",
       "    </tr>\n",
       "    <tr>\n",
       "      <th>mean</th>\n",
       "      <td>8.291762</td>\n",
       "      <td>0.007108</td>\n",
       "      <td>1.264152</td>\n",
       "      <td>0.700663</td>\n",
       "      <td>1.599608</td>\n",
       "    </tr>\n",
       "    <tr>\n",
       "      <th>std</th>\n",
       "      <td>1.247954</td>\n",
       "      <td>0.011147</td>\n",
       "      <td>1.156387</td>\n",
       "      <td>0.490001</td>\n",
       "      <td>2.326055</td>\n",
       "    </tr>\n",
       "    <tr>\n",
       "      <th>min</th>\n",
       "      <td>-1.440000</td>\n",
       "      <td>-0.035100</td>\n",
       "      <td>0.380000</td>\n",
       "      <td>-0.400000</td>\n",
       "      <td>-13.310000</td>\n",
       "    </tr>\n",
       "    <tr>\n",
       "      <th>25%</th>\n",
       "      <td>7.610000</td>\n",
       "      <td>0.002520</td>\n",
       "      <td>0.870000</td>\n",
       "      <td>0.342000</td>\n",
       "      <td>0.263158</td>\n",
       "    </tr>\n",
       "    <tr>\n",
       "      <th>50%</th>\n",
       "      <td>8.400000</td>\n",
       "      <td>0.004600</td>\n",
       "      <td>1.080000</td>\n",
       "      <td>0.605000</td>\n",
       "      <td>1.511542</td>\n",
       "    </tr>\n",
       "    <tr>\n",
       "      <th>75%</th>\n",
       "      <td>9.070000</td>\n",
       "      <td>0.008270</td>\n",
       "      <td>1.360000</td>\n",
       "      <td>1.072000</td>\n",
       "      <td>3.064660</td>\n",
       "    </tr>\n",
       "    <tr>\n",
       "      <th>max</th>\n",
       "      <td>13.610000</td>\n",
       "      <td>0.772330</td>\n",
       "      <td>69.070000</td>\n",
       "      <td>5.460000</td>\n",
       "      <td>15.449015</td>\n",
       "    </tr>\n",
       "  </tbody>\n",
       "</table>\n",
       "</div>"
      ],
      "text/plain": [
       "               Vmag           Plx         e_Plx           B_V          Amag\n",
       "count  96707.000000  96707.000000  96707.000000  96707.000000  93556.000000\n",
       "mean       8.291762      0.007108      1.264152      0.700663      1.599608\n",
       "std        1.247954      0.011147      1.156387      0.490001      2.326055\n",
       "min       -1.440000     -0.035100      0.380000     -0.400000    -13.310000\n",
       "25%        7.610000      0.002520      0.870000      0.342000      0.263158\n",
       "50%        8.400000      0.004600      1.080000      0.605000      1.511542\n",
       "75%        9.070000      0.008270      1.360000      1.072000      3.064660\n",
       "max       13.610000      0.772330     69.070000      5.460000     15.449015"
      ]
     },
     "execution_count": 40,
     "metadata": {},
     "output_type": "execute_result"
    }
   ],
   "source": [
    "df.describe()"
   ]
  },
  {
   "cell_type": "markdown",
   "metadata": {},
   "source": [
    "### Display Star Classification"
   ]
  },
  {
   "cell_type": "code",
   "execution_count": 41,
   "metadata": {},
   "outputs": [
    {
     "data": {
      "image/png": "[encoded data removed]",
      "text/plain": [
       "<PIL.JpegImagePlugin.JpegImageFile image mode=RGB size=433x476 at 0x2BC16100B20>"
      ]
     },
     "metadata": {},
     "output_type": "display_data"
    }
   ],
   "source": [
    "display(Image.open('../Star-Classification/Star_Classification.JPG'))"
   ]
  },
  {
   "cell_type": "markdown",
   "metadata": {},
   "source": [
    "# - Create a label column via SpType"
   ]
  },
  {
   "cell_type": "code",
   "execution_count": 42,
   "metadata": {},
   "outputs": [
    {
     "data": {
      "text/plain": [
       "K0              7321\n",
       "G5              5358\n",
       "F8              3827\n",
       "A0              3804\n",
       "G0              3754\n",
       "                ... \n",
       "B0IV:evar          1\n",
       "CVIIe+             1\n",
       "K2/K3IIIp+.        1\n",
       "M5e-M9IIIe         1\n",
       "F3/5V: +A7/9       1\n",
       "Name: SpType, Length: 3703, dtype: int64"
      ]
     },
     "execution_count": 42,
     "metadata": {},
     "output_type": "execute_result"
    }
   ],
   "source": [
    "df.SpType.value_counts()"
   ]
  },
  {
   "cell_type": "code",
   "execution_count": 43,
   "metadata": {},
   "outputs": [],
   "source": [
    "def label_gen_stars(star):\n",
    "    dwarf = ['D','VI', 'VII', 'V']\n",
    "    giant = ['III', 'II', 'Ib', 'Ia', 'Ia-O']\n",
    "    for i in dwarf :\n",
    "        if i in star:\n",
    "            return 'Dwarf'\n",
    "    for i in giant:\n",
    "        if i in star:\n",
    "            return 'Giant'\n",
    "    return 'Other'\n",
    "    "
   ]
  },
  {
   "cell_type": "code",
   "execution_count": 44,
   "metadata": {},
   "outputs": [],
   "source": [
    "df['Star_Size'] = df.SpType.apply(label_gen_stars)"
   ]
  },
  {
   "cell_type": "code",
   "execution_count": 45,
   "metadata": {},
   "outputs": [
    {
     "data": {
      "text/html": [
       "<div>\n",
       "<style scoped>\n",
       "    .dataframe tbody tr th:only-of-type {\n",
       "        vertical-align: middle;\n",
       "    }\n",
       "\n",
       "    .dataframe tbody tr th {\n",
       "        vertical-align: top;\n",
       "    }\n",
       "\n",
       "    .dataframe thead th {\n",
       "        text-align: right;\n",
       "    }\n",
       "</style>\n",
       "<table border=\"1\" class=\"dataframe\">\n",
       "  <thead>\n",
       "    <tr style=\"text-align: right;\">\n",
       "      <th></th>\n",
       "      <th>Vmag</th>\n",
       "      <th>Plx</th>\n",
       "      <th>e_Plx</th>\n",
       "      <th>B_V</th>\n",
       "      <th>SpType</th>\n",
       "      <th>Amag</th>\n",
       "      <th>Star_Size</th>\n",
       "    </tr>\n",
       "  </thead>\n",
       "  <tbody>\n",
       "    <tr>\n",
       "      <th>0</th>\n",
       "      <td>9.10</td>\n",
       "      <td>0.00354</td>\n",
       "      <td>1.39</td>\n",
       "      <td>0.482</td>\n",
       "      <td>F5</td>\n",
       "      <td>1.845017</td>\n",
       "      <td>Other</td>\n",
       "    </tr>\n",
       "    <tr>\n",
       "      <th>1</th>\n",
       "      <td>9.27</td>\n",
       "      <td>0.02190</td>\n",
       "      <td>3.10</td>\n",
       "      <td>0.999</td>\n",
       "      <td>K3V</td>\n",
       "      <td>5.972221</td>\n",
       "      <td>Dwarf</td>\n",
       "    </tr>\n",
       "    <tr>\n",
       "      <th>2</th>\n",
       "      <td>6.61</td>\n",
       "      <td>0.00281</td>\n",
       "      <td>0.63</td>\n",
       "      <td>-0.019</td>\n",
       "      <td>B9</td>\n",
       "      <td>-1.146468</td>\n",
       "      <td>Other</td>\n",
       "    </tr>\n",
       "    <tr>\n",
       "      <th>3</th>\n",
       "      <td>8.06</td>\n",
       "      <td>0.00775</td>\n",
       "      <td>0.97</td>\n",
       "      <td>0.370</td>\n",
       "      <td>F0V</td>\n",
       "      <td>2.506509</td>\n",
       "      <td>Dwarf</td>\n",
       "    </tr>\n",
       "    <tr>\n",
       "      <th>4</th>\n",
       "      <td>8.55</td>\n",
       "      <td>0.00287</td>\n",
       "      <td>1.11</td>\n",
       "      <td>0.902</td>\n",
       "      <td>G8III</td>\n",
       "      <td>0.839410</td>\n",
       "      <td>Giant</td>\n",
       "    </tr>\n",
       "  </tbody>\n",
       "</table>\n",
       "</div>"
      ],
      "text/plain": [
       "   Vmag      Plx  e_Plx    B_V SpType      Amag Star_Size\n",
       "0  9.10  0.00354   1.39  0.482     F5  1.845017     Other\n",
       "1  9.27  0.02190   3.10  0.999    K3V  5.972221     Dwarf\n",
       "2  6.61  0.00281   0.63 -0.019     B9 -1.146468     Other\n",
       "3  8.06  0.00775   0.97  0.370    F0V  2.506509     Dwarf\n",
       "4  8.55  0.00287   1.11  0.902  G8III  0.839410     Giant"
      ]
     },
     "execution_count": 45,
     "metadata": {},
     "output_type": "execute_result"
    }
   ],
   "source": [
    "df.head()"
   ]
  },
  {
   "cell_type": "code",
   "execution_count": 46,
   "metadata": {},
   "outputs": [
    {
     "data": {
      "text/plain": [
       "Vmag            0\n",
       "Plx             0\n",
       "e_Plx           0\n",
       "B_V             0\n",
       "SpType          0\n",
       "Amag         3151\n",
       "Star_Size       0\n",
       "dtype: int64"
      ]
     },
     "execution_count": 46,
     "metadata": {},
     "output_type": "execute_result"
    }
   ],
   "source": [
    "df.isnull().sum()"
   ]
  },
  {
   "cell_type": "code",
   "execution_count": 47,
   "metadata": {},
   "outputs": [
    {
     "data": {
      "text/plain": [
       "Other    49196\n",
       "Dwarf    27752\n",
       "Giant    19759\n",
       "Name: Star_Size, dtype: int64"
      ]
     },
     "execution_count": 47,
     "metadata": {},
     "output_type": "execute_result"
    }
   ],
   "source": [
    "df.Star_Size.value_counts()"
   ]
  },
  {
   "cell_type": "markdown",
   "metadata": {},
   "source": [
    "## Create a label Star Type Color by B.V"
   ]
  },
  {
   "cell_type": "markdown",
   "metadata": {},
   "source": [
    "#### Get table from internet"
   ]
  },
  {
   "cell_type": "code",
   "execution_count": 48,
   "metadata": {},
   "outputs": [],
   "source": [
    "spectral_class = pd.read_html('https://www.enchantedlearning.com/subjects/astronomy/stars/startypes.shtml')"
   ]
  },
  {
   "cell_type": "code",
   "execution_count": 49,
   "metadata": {},
   "outputs": [],
   "source": [
    "spectral_class = spectral_class[7]"
   ]
  },
  {
   "cell_type": "code",
   "execution_count": 50,
   "metadata": {},
   "outputs": [],
   "source": [
    "spectral_class.drop('Examples', axis = 1, inplace=True)"
   ]
  },
  {
   "cell_type": "markdown",
   "metadata": {},
   "source": [
    "#### Renaming columns for better manipulation"
   ]
  },
  {
   "cell_type": "code",
   "execution_count": 51,
   "metadata": {},
   "outputs": [],
   "source": [
    "spectral_class.rename(columns={'Approximate Surface Temperature':'Approx_Surface_Temperature(K)'}, inplace = True)"
   ]
  },
  {
   "cell_type": "code",
   "execution_count": 52,
   "metadata": {},
   "outputs": [],
   "source": [
    "spectral_class.rename(columns={'Average Mass (The Sun = 1)':'Avg_Mass'}, inplace = True)"
   ]
  },
  {
   "cell_type": "code",
   "execution_count": 53,
   "metadata": {},
   "outputs": [],
   "source": [
    "spectral_class.rename(columns={'Average Radius (The Sun = 1)':'Avg_Radius'}, inplace = True)"
   ]
  },
  {
   "cell_type": "code",
   "execution_count": 54,
   "metadata": {},
   "outputs": [],
   "source": [
    "spectral_class.rename(columns={'Average Luminosity (The Sun = 1)':'Avg_Light'}, inplace = True)"
   ]
  },
  {
   "cell_type": "code",
   "execution_count": 55,
   "metadata": {},
   "outputs": [],
   "source": [
    "spectral_class.rename(columns={'Main Characteristics':'Main_Charac'}, inplace = True)"
   ]
  },
  {
   "cell_type": "code",
   "execution_count": 56,
   "metadata": {},
   "outputs": [],
   "source": [
    "spectral_class['Approx_Surface_Temperature(K)'] = spectral_class['Approx_Surface_Temperature(K)'].replace({'K':'', \n",
    "                                                                                                                       'over': '+',\n",
    "                                                                                                                      'under':'-'})\n",
    "                                                                                                                       "
   ]
  },
  {
   "cell_type": "code",
   "execution_count": 57,
   "metadata": {},
   "outputs": [],
   "source": [
    "spectral_class[\"Approx_Surface_Temperature(K)\"] = spectral_class[\"Approx_Surface_Temperature(K)\"].str.replace('K','').str.replace('over', '+').str.replace('under','-')\n",
    "               "
   ]
  },
  {
   "cell_type": "code",
   "execution_count": 58,
   "metadata": {},
   "outputs": [
    {
     "data": {
      "text/html": [
       "<div>\n",
       "<style scoped>\n",
       "    .dataframe tbody tr th:only-of-type {\n",
       "        vertical-align: middle;\n",
       "    }\n",
       "\n",
       "    .dataframe tbody tr th {\n",
       "        vertical-align: top;\n",
       "    }\n",
       "\n",
       "    .dataframe thead th {\n",
       "        text-align: right;\n",
       "    }\n",
       "</style>\n",
       "<table border=\"1\" class=\"dataframe\">\n",
       "  <thead>\n",
       "    <tr style=\"text-align: right;\">\n",
       "      <th></th>\n",
       "      <th>Star Type</th>\n",
       "      <th>Color</th>\n",
       "      <th>Approx_Surface_Temperature(K)</th>\n",
       "      <th>Avg_Mass</th>\n",
       "      <th>Avg_Radius</th>\n",
       "      <th>Avg_Light</th>\n",
       "      <th>Main_Charac</th>\n",
       "    </tr>\n",
       "  </thead>\n",
       "  <tbody>\n",
       "    <tr>\n",
       "      <th>0</th>\n",
       "      <td>O</td>\n",
       "      <td>Blue</td>\n",
       "      <td>+ 25,000</td>\n",
       "      <td>60.0</td>\n",
       "      <td>15.0</td>\n",
       "      <td>1400000</td>\n",
       "      <td>Singly ionized helium lines (H I) either in em...</td>\n",
       "    </tr>\n",
       "    <tr>\n",
       "      <th>1</th>\n",
       "      <td>B</td>\n",
       "      <td>Blue</td>\n",
       "      <td>11,000 - 25,000</td>\n",
       "      <td>18.0</td>\n",
       "      <td>7.0</td>\n",
       "      <td>20000</td>\n",
       "      <td>Neutral helium lines (H II) in absorption.</td>\n",
       "    </tr>\n",
       "    <tr>\n",
       "      <th>2</th>\n",
       "      <td>A</td>\n",
       "      <td>Blue</td>\n",
       "      <td>7,500 - 11,000</td>\n",
       "      <td>3.2</td>\n",
       "      <td>2.5</td>\n",
       "      <td>80</td>\n",
       "      <td>Hydrogen (H) lines strongest for A0 stars, dec...</td>\n",
       "    </tr>\n",
       "    <tr>\n",
       "      <th>3</th>\n",
       "      <td>F</td>\n",
       "      <td>Blue to White</td>\n",
       "      <td>6,000 - 7,500</td>\n",
       "      <td>1.7</td>\n",
       "      <td>1.3</td>\n",
       "      <td>6</td>\n",
       "      <td>Ca II absorption. Metallic lines become notice...</td>\n",
       "    </tr>\n",
       "    <tr>\n",
       "      <th>4</th>\n",
       "      <td>G</td>\n",
       "      <td>White to Yellow</td>\n",
       "      <td>5,000 - 6,000</td>\n",
       "      <td>1.1</td>\n",
       "      <td>1.1</td>\n",
       "      <td>1.2</td>\n",
       "      <td>Absorption lines of neutral metallic atoms and...</td>\n",
       "    </tr>\n",
       "    <tr>\n",
       "      <th>5</th>\n",
       "      <td>K</td>\n",
       "      <td>Orange to Red</td>\n",
       "      <td>3,500 - 5,000</td>\n",
       "      <td>0.8</td>\n",
       "      <td>0.9</td>\n",
       "      <td>0.4</td>\n",
       "      <td>Metallic lines, some blue continuum.</td>\n",
       "    </tr>\n",
       "    <tr>\n",
       "      <th>6</th>\n",
       "      <td>M</td>\n",
       "      <td>Red</td>\n",
       "      <td>- 3,500</td>\n",
       "      <td>0.3</td>\n",
       "      <td>0.4</td>\n",
       "      <td>0.04(very faint)</td>\n",
       "      <td>Some molecular bands of titanium oxide.</td>\n",
       "    </tr>\n",
       "  </tbody>\n",
       "</table>\n",
       "</div>"
      ],
      "text/plain": [
       "  Star Type            Color Approx_Surface_Temperature(K)  Avg_Mass  \\\n",
       "0         O             Blue                     + 25,000       60.0   \n",
       "1         B             Blue              11,000 - 25,000       18.0   \n",
       "2         A             Blue               7,500 - 11,000        3.2   \n",
       "3         F    Blue to White                6,000 - 7,500        1.7   \n",
       "4         G  White to Yellow                5,000 - 6,000        1.1   \n",
       "5         K    Orange to Red                3,500 - 5,000        0.8   \n",
       "6         M              Red                      - 3,500        0.3   \n",
       "\n",
       "   Avg_Radius         Avg_Light  \\\n",
       "0        15.0           1400000   \n",
       "1         7.0             20000   \n",
       "2         2.5                80   \n",
       "3         1.3                 6   \n",
       "4         1.1               1.2   \n",
       "5         0.9               0.4   \n",
       "6         0.4  0.04(very faint)   \n",
       "\n",
       "                                         Main_Charac  \n",
       "0  Singly ionized helium lines (H I) either in em...  \n",
       "1         Neutral helium lines (H II) in absorption.  \n",
       "2  Hydrogen (H) lines strongest for A0 stars, dec...  \n",
       "3  Ca II absorption. Metallic lines become notice...  \n",
       "4  Absorption lines of neutral metallic atoms and...  \n",
       "5               Metallic lines, some blue continuum.  \n",
       "6            Some molecular bands of titanium oxide.  "
      ]
     },
     "execution_count": 58,
     "metadata": {},
     "output_type": "execute_result"
    }
   ],
   "source": [
    "spectral_class"
   ]
  },
  {
   "cell_type": "markdown",
   "metadata": {},
   "source": [
    "#### Get the B-V index for better vizu"
   ]
  },
  {
   "cell_type": "code",
   "execution_count": 59,
   "metadata": {},
   "outputs": [],
   "source": [
    "def get_color_type(x):\n",
    "    for i in x:\n",
    "        if i == 'O':\n",
    "            return -0.33\n",
    "        elif i == 'B' :\n",
    "            return -0.3\n",
    "        elif i =='A':\n",
    "            return -0.02\n",
    "        elif i == 'F':\n",
    "            return 0.3\n",
    "        elif i == 'G':\n",
    "            return 0.58\n",
    "        elif i == 'K':\n",
    "            return 0.81\n",
    "        else :\n",
    "            return 1.4\n",
    "            \n",
    "        "
   ]
  },
  {
   "cell_type": "code",
   "execution_count": 60,
   "metadata": {},
   "outputs": [],
   "source": [
    "spectral_class['B-V'] = spectral_class['Star Type'].apply(get_color_type)"
   ]
  },
  {
   "cell_type": "markdown",
   "metadata": {},
   "source": [
    "#### Get Color Type in the DataFrame principal"
   ]
  },
  {
   "cell_type": "code",
   "execution_count": 61,
   "metadata": {},
   "outputs": [],
   "source": [
    "df.loc[df.B_V < -0.3, 'Color_Type'] ='O'\n",
    "df.loc[(df.B_V >= -0.3 ) & (df.B_V < -0.02) , 'Color_Type'] ='B'\n",
    "df.loc[(df.B_V >= -0.02) & (df.B_V < 0.3) , 'Color_Type'] ='A'\n",
    "df.loc[(df.B_V >= 0.3) & (df.B_V < 0.58) , 'Color_Type'] ='F'\n",
    "df.loc[(df.B_V >= 0.58) & (df.B_V < 0.81) , 'Color_Type'] ='G'\n",
    "df.loc[(df.B_V >= 0.81) & (df.B_V < 1.4 ) , 'Color_Type'] ='K'\n",
    "df.loc[df.B_V >= 1.4,  'Color_Type'] ='M'\n"
   ]
  },
  {
   "cell_type": "markdown",
   "metadata": {},
   "source": [
    "### Merge the two dataframe to have all information in the DataFeame Principal"
   ]
  },
  {
   "cell_type": "markdown",
   "metadata": {},
   "source": [
    "\n",
    "#### Change columns name in second df to merge"
   ]
  },
  {
   "cell_type": "code",
   "execution_count": 62,
   "metadata": {},
   "outputs": [],
   "source": [
    "spectral_class.rename(columns= {'Star Type' : 'Color_Type'}, inplace = True)"
   ]
  },
  {
   "cell_type": "code",
   "execution_count": 63,
   "metadata": {},
   "outputs": [],
   "source": [
    "stars = pd.merge(df, spectral_class, on = 'Color_Type', how='left')"
   ]
  },
  {
   "cell_type": "code",
   "execution_count": 64,
   "metadata": {},
   "outputs": [
    {
     "data": {
      "text/html": [
       "<div>\n",
       "<style scoped>\n",
       "    .dataframe tbody tr th:only-of-type {\n",
       "        vertical-align: middle;\n",
       "    }\n",
       "\n",
       "    .dataframe tbody tr th {\n",
       "        vertical-align: top;\n",
       "    }\n",
       "\n",
       "    .dataframe thead th {\n",
       "        text-align: right;\n",
       "    }\n",
       "</style>\n",
       "<table border=\"1\" class=\"dataframe\">\n",
       "  <thead>\n",
       "    <tr style=\"text-align: right;\">\n",
       "      <th></th>\n",
       "      <th>Vmag</th>\n",
       "      <th>Plx</th>\n",
       "      <th>e_Plx</th>\n",
       "      <th>B_V</th>\n",
       "      <th>SpType</th>\n",
       "      <th>Amag</th>\n",
       "      <th>Star_Size</th>\n",
       "      <th>Color_Type</th>\n",
       "    </tr>\n",
       "  </thead>\n",
       "  <tbody>\n",
       "    <tr>\n",
       "      <th>0</th>\n",
       "      <td>9.10</td>\n",
       "      <td>0.00354</td>\n",
       "      <td>1.39</td>\n",
       "      <td>0.482</td>\n",
       "      <td>F5</td>\n",
       "      <td>1.845017</td>\n",
       "      <td>Other</td>\n",
       "      <td>F</td>\n",
       "    </tr>\n",
       "    <tr>\n",
       "      <th>1</th>\n",
       "      <td>9.27</td>\n",
       "      <td>0.02190</td>\n",
       "      <td>3.10</td>\n",
       "      <td>0.999</td>\n",
       "      <td>K3V</td>\n",
       "      <td>5.972221</td>\n",
       "      <td>Dwarf</td>\n",
       "      <td>K</td>\n",
       "    </tr>\n",
       "    <tr>\n",
       "      <th>2</th>\n",
       "      <td>6.61</td>\n",
       "      <td>0.00281</td>\n",
       "      <td>0.63</td>\n",
       "      <td>-0.019</td>\n",
       "      <td>B9</td>\n",
       "      <td>-1.146468</td>\n",
       "      <td>Other</td>\n",
       "      <td>A</td>\n",
       "    </tr>\n",
       "    <tr>\n",
       "      <th>3</th>\n",
       "      <td>8.06</td>\n",
       "      <td>0.00775</td>\n",
       "      <td>0.97</td>\n",
       "      <td>0.370</td>\n",
       "      <td>F0V</td>\n",
       "      <td>2.506509</td>\n",
       "      <td>Dwarf</td>\n",
       "      <td>F</td>\n",
       "    </tr>\n",
       "    <tr>\n",
       "      <th>4</th>\n",
       "      <td>8.55</td>\n",
       "      <td>0.00287</td>\n",
       "      <td>1.11</td>\n",
       "      <td>0.902</td>\n",
       "      <td>G8III</td>\n",
       "      <td>0.839410</td>\n",
       "      <td>Giant</td>\n",
       "      <td>K</td>\n",
       "    </tr>\n",
       "  </tbody>\n",
       "</table>\n",
       "</div>"
      ],
      "text/plain": [
       "   Vmag      Plx  e_Plx    B_V SpType      Amag Star_Size Color_Type\n",
       "0  9.10  0.00354   1.39  0.482     F5  1.845017     Other          F\n",
       "1  9.27  0.02190   3.10  0.999    K3V  5.972221     Dwarf          K\n",
       "2  6.61  0.00281   0.63 -0.019     B9 -1.146468     Other          A\n",
       "3  8.06  0.00775   0.97  0.370    F0V  2.506509     Dwarf          F\n",
       "4  8.55  0.00287   1.11  0.902  G8III  0.839410     Giant          K"
      ]
     },
     "execution_count": 64,
     "metadata": {},
     "output_type": "execute_result"
    }
   ],
   "source": [
    "df.head()"
   ]
  },
  {
   "cell_type": "code",
   "execution_count": 65,
   "metadata": {},
   "outputs": [
    {
     "data": {
      "text/html": [
       "<div>\n",
       "<style scoped>\n",
       "    .dataframe tbody tr th:only-of-type {\n",
       "        vertical-align: middle;\n",
       "    }\n",
       "\n",
       "    .dataframe tbody tr th {\n",
       "        vertical-align: top;\n",
       "    }\n",
       "\n",
       "    .dataframe thead th {\n",
       "        text-align: right;\n",
       "    }\n",
       "</style>\n",
       "<table border=\"1\" class=\"dataframe\">\n",
       "  <thead>\n",
       "    <tr style=\"text-align: right;\">\n",
       "      <th></th>\n",
       "      <th>Vmag</th>\n",
       "      <th>Plx</th>\n",
       "      <th>e_Plx</th>\n",
       "      <th>B_V</th>\n",
       "      <th>SpType</th>\n",
       "      <th>Amag</th>\n",
       "      <th>Star_Size</th>\n",
       "      <th>Color_Type</th>\n",
       "      <th>Color</th>\n",
       "      <th>Approx_Surface_Temperature(K)</th>\n",
       "      <th>Avg_Mass</th>\n",
       "      <th>Avg_Radius</th>\n",
       "      <th>Avg_Light</th>\n",
       "      <th>Main_Charac</th>\n",
       "      <th>B-V</th>\n",
       "    </tr>\n",
       "  </thead>\n",
       "  <tbody>\n",
       "    <tr>\n",
       "      <th>0</th>\n",
       "      <td>9.10</td>\n",
       "      <td>0.00354</td>\n",
       "      <td>1.39</td>\n",
       "      <td>0.482</td>\n",
       "      <td>F5</td>\n",
       "      <td>1.845017</td>\n",
       "      <td>Other</td>\n",
       "      <td>F</td>\n",
       "      <td>Blue to White</td>\n",
       "      <td>6,000 - 7,500</td>\n",
       "      <td>1.7</td>\n",
       "      <td>1.3</td>\n",
       "      <td>6</td>\n",
       "      <td>Ca II absorption. Metallic lines become notice...</td>\n",
       "      <td>0.30</td>\n",
       "    </tr>\n",
       "    <tr>\n",
       "      <th>1</th>\n",
       "      <td>9.27</td>\n",
       "      <td>0.02190</td>\n",
       "      <td>3.10</td>\n",
       "      <td>0.999</td>\n",
       "      <td>K3V</td>\n",
       "      <td>5.972221</td>\n",
       "      <td>Dwarf</td>\n",
       "      <td>K</td>\n",
       "      <td>Orange to Red</td>\n",
       "      <td>3,500 - 5,000</td>\n",
       "      <td>0.8</td>\n",
       "      <td>0.9</td>\n",
       "      <td>0.4</td>\n",
       "      <td>Metallic lines, some blue continuum.</td>\n",
       "      <td>0.81</td>\n",
       "    </tr>\n",
       "    <tr>\n",
       "      <th>2</th>\n",
       "      <td>6.61</td>\n",
       "      <td>0.00281</td>\n",
       "      <td>0.63</td>\n",
       "      <td>-0.019</td>\n",
       "      <td>B9</td>\n",
       "      <td>-1.146468</td>\n",
       "      <td>Other</td>\n",
       "      <td>A</td>\n",
       "      <td>Blue</td>\n",
       "      <td>7,500 - 11,000</td>\n",
       "      <td>3.2</td>\n",
       "      <td>2.5</td>\n",
       "      <td>80</td>\n",
       "      <td>Hydrogen (H) lines strongest for A0 stars, dec...</td>\n",
       "      <td>-0.02</td>\n",
       "    </tr>\n",
       "    <tr>\n",
       "      <th>3</th>\n",
       "      <td>8.06</td>\n",
       "      <td>0.00775</td>\n",
       "      <td>0.97</td>\n",
       "      <td>0.370</td>\n",
       "      <td>F0V</td>\n",
       "      <td>2.506509</td>\n",
       "      <td>Dwarf</td>\n",
       "      <td>F</td>\n",
       "      <td>Blue to White</td>\n",
       "      <td>6,000 - 7,500</td>\n",
       "      <td>1.7</td>\n",
       "      <td>1.3</td>\n",
       "      <td>6</td>\n",
       "      <td>Ca II absorption. Metallic lines become notice...</td>\n",
       "      <td>0.30</td>\n",
       "    </tr>\n",
       "    <tr>\n",
       "      <th>4</th>\n",
       "      <td>8.55</td>\n",
       "      <td>0.00287</td>\n",
       "      <td>1.11</td>\n",
       "      <td>0.902</td>\n",
       "      <td>G8III</td>\n",
       "      <td>0.839410</td>\n",
       "      <td>Giant</td>\n",
       "      <td>K</td>\n",
       "      <td>Orange to Red</td>\n",
       "      <td>3,500 - 5,000</td>\n",
       "      <td>0.8</td>\n",
       "      <td>0.9</td>\n",
       "      <td>0.4</td>\n",
       "      <td>Metallic lines, some blue continuum.</td>\n",
       "      <td>0.81</td>\n",
       "    </tr>\n",
       "    <tr>\n",
       "      <th>5</th>\n",
       "      <td>12.31</td>\n",
       "      <td>0.01880</td>\n",
       "      <td>4.99</td>\n",
       "      <td>1.336</td>\n",
       "      <td>M0V:</td>\n",
       "      <td>8.680790</td>\n",
       "      <td>Dwarf</td>\n",
       "      <td>K</td>\n",
       "      <td>Orange to Red</td>\n",
       "      <td>3,500 - 5,000</td>\n",
       "      <td>0.8</td>\n",
       "      <td>0.9</td>\n",
       "      <td>0.4</td>\n",
       "      <td>Metallic lines, some blue continuum.</td>\n",
       "      <td>0.81</td>\n",
       "    </tr>\n",
       "    <tr>\n",
       "      <th>6</th>\n",
       "      <td>9.64</td>\n",
       "      <td>0.01774</td>\n",
       "      <td>1.30</td>\n",
       "      <td>0.740</td>\n",
       "      <td>G0</td>\n",
       "      <td>5.884768</td>\n",
       "      <td>Other</td>\n",
       "      <td>G</td>\n",
       "      <td>White to Yellow</td>\n",
       "      <td>5,000 - 6,000</td>\n",
       "      <td>1.1</td>\n",
       "      <td>1.1</td>\n",
       "      <td>1.2</td>\n",
       "      <td>Absorption lines of neutral metallic atoms and...</td>\n",
       "      <td>0.58</td>\n",
       "    </tr>\n",
       "    <tr>\n",
       "      <th>7</th>\n",
       "      <td>9.05</td>\n",
       "      <td>0.00517</td>\n",
       "      <td>1.95</td>\n",
       "      <td>1.102</td>\n",
       "      <td>M6e-M8.5e Tc</td>\n",
       "      <td>2.617453</td>\n",
       "      <td>Other</td>\n",
       "      <td>K</td>\n",
       "      <td>Orange to Red</td>\n",
       "      <td>3,500 - 5,000</td>\n",
       "      <td>0.8</td>\n",
       "      <td>0.9</td>\n",
       "      <td>0.4</td>\n",
       "      <td>Metallic lines, some blue continuum.</td>\n",
       "      <td>0.81</td>\n",
       "    </tr>\n",
       "    <tr>\n",
       "      <th>8</th>\n",
       "      <td>8.59</td>\n",
       "      <td>0.00481</td>\n",
       "      <td>0.99</td>\n",
       "      <td>1.067</td>\n",
       "      <td>G5</td>\n",
       "      <td>2.000726</td>\n",
       "      <td>Other</td>\n",
       "      <td>K</td>\n",
       "      <td>Orange to Red</td>\n",
       "      <td>3,500 - 5,000</td>\n",
       "      <td>0.8</td>\n",
       "      <td>0.9</td>\n",
       "      <td>0.4</td>\n",
       "      <td>Metallic lines, some blue continuum.</td>\n",
       "      <td>0.81</td>\n",
       "    </tr>\n",
       "    <tr>\n",
       "      <th>9</th>\n",
       "      <td>8.59</td>\n",
       "      <td>0.01076</td>\n",
       "      <td>1.10</td>\n",
       "      <td>0.489</td>\n",
       "      <td>F6V</td>\n",
       "      <td>3.749062</td>\n",
       "      <td>Dwarf</td>\n",
       "      <td>F</td>\n",
       "      <td>Blue to White</td>\n",
       "      <td>6,000 - 7,500</td>\n",
       "      <td>1.7</td>\n",
       "      <td>1.3</td>\n",
       "      <td>6</td>\n",
       "      <td>Ca II absorption. Metallic lines become notice...</td>\n",
       "      <td>0.30</td>\n",
       "    </tr>\n",
       "  </tbody>\n",
       "</table>\n",
       "</div>"
      ],
      "text/plain": [
       "    Vmag      Plx  e_Plx    B_V        SpType      Amag Star_Size Color_Type  \\\n",
       "0   9.10  0.00354   1.39  0.482            F5  1.845017     Other          F   \n",
       "1   9.27  0.02190   3.10  0.999           K3V  5.972221     Dwarf          K   \n",
       "2   6.61  0.00281   0.63 -0.019            B9 -1.146468     Other          A   \n",
       "3   8.06  0.00775   0.97  0.370           F0V  2.506509     Dwarf          F   \n",
       "4   8.55  0.00287   1.11  0.902         G8III  0.839410     Giant          K   \n",
       "5  12.31  0.01880   4.99  1.336          M0V:  8.680790     Dwarf          K   \n",
       "6   9.64  0.01774   1.30  0.740            G0  5.884768     Other          G   \n",
       "7   9.05  0.00517   1.95  1.102  M6e-M8.5e Tc  2.617453     Other          K   \n",
       "8   8.59  0.00481   0.99  1.067            G5  2.000726     Other          K   \n",
       "9   8.59  0.01076   1.10  0.489           F6V  3.749062     Dwarf          F   \n",
       "\n",
       "             Color Approx_Surface_Temperature(K)  Avg_Mass  Avg_Radius  \\\n",
       "0    Blue to White                6,000 - 7,500        1.7         1.3   \n",
       "1    Orange to Red                3,500 - 5,000        0.8         0.9   \n",
       "2             Blue               7,500 - 11,000        3.2         2.5   \n",
       "3    Blue to White                6,000 - 7,500        1.7         1.3   \n",
       "4    Orange to Red                3,500 - 5,000        0.8         0.9   \n",
       "5    Orange to Red                3,500 - 5,000        0.8         0.9   \n",
       "6  White to Yellow                5,000 - 6,000        1.1         1.1   \n",
       "7    Orange to Red                3,500 - 5,000        0.8         0.9   \n",
       "8    Orange to Red                3,500 - 5,000        0.8         0.9   \n",
       "9    Blue to White                6,000 - 7,500        1.7         1.3   \n",
       "\n",
       "  Avg_Light                                        Main_Charac   B-V  \n",
       "0         6  Ca II absorption. Metallic lines become notice...  0.30  \n",
       "1       0.4               Metallic lines, some blue continuum.  0.81  \n",
       "2        80  Hydrogen (H) lines strongest for A0 stars, dec... -0.02  \n",
       "3         6  Ca II absorption. Metallic lines become notice...  0.30  \n",
       "4       0.4               Metallic lines, some blue continuum.  0.81  \n",
       "5       0.4               Metallic lines, some blue continuum.  0.81  \n",
       "6       1.2  Absorption lines of neutral metallic atoms and...  0.58  \n",
       "7       0.4               Metallic lines, some blue continuum.  0.81  \n",
       "8       0.4               Metallic lines, some blue continuum.  0.81  \n",
       "9         6  Ca II absorption. Metallic lines become notice...  0.30  "
      ]
     },
     "execution_count": 65,
     "metadata": {},
     "output_type": "execute_result"
    }
   ],
   "source": [
    "stars.head(10)"
   ]
  },
  {
   "cell_type": "code",
   "execution_count": 66,
   "metadata": {},
   "outputs": [
    {
     "name": "stdout",
     "output_type": "stream",
     "text": [
      "<class 'pandas.core.frame.DataFrame'>\n",
      "Int64Index: 96707 entries, 0 to 96706\n",
      "Data columns (total 15 columns):\n",
      " #   Column                         Non-Null Count  Dtype  \n",
      "---  ------                         --------------  -----  \n",
      " 0   Vmag                           96707 non-null  float32\n",
      " 1   Plx                            96707 non-null  float64\n",
      " 2   e_Plx                          96707 non-null  float32\n",
      " 3   B_V                            96707 non-null  float32\n",
      " 4   SpType                         96707 non-null  object \n",
      " 5   Amag                           93556 non-null  float64\n",
      " 6   Star_Size                      96707 non-null  object \n",
      " 7   Color_Type                     96707 non-null  object \n",
      " 8   Color                          96707 non-null  object \n",
      " 9   Approx_Surface_Temperature(K)  96707 non-null  object \n",
      " 10  Avg_Mass                       96707 non-null  float64\n",
      " 11  Avg_Radius                     96707 non-null  float64\n",
      " 12  Avg_Light                      96707 non-null  object \n",
      " 13  Main_Charac                    96707 non-null  object \n",
      " 14  B-V                            96707 non-null  float64\n",
      "dtypes: float32(3), float64(5), object(7)\n",
      "memory usage: 10.7+ MB\n"
     ]
    }
   ],
   "source": [
    "stars.info()"
   ]
  },
  {
   "cell_type": "markdown",
   "metadata": {},
   "source": [
    "#### Rename the B-V column"
   ]
  },
  {
   "cell_type": "code",
   "execution_count": 67,
   "metadata": {},
   "outputs": [],
   "source": [
    "stars.rename(columns = {'B-V':'B_V_index'}, inplace = True)"
   ]
  },
  {
   "cell_type": "markdown",
   "metadata": {},
   "source": [
    "#### Let's check if the stars are correctly speads"
   ]
  },
  {
   "cell_type": "code",
   "execution_count": null,
   "metadata": {},
   "outputs": [],
   "source": []
  },
  {
   "cell_type": "code",
   "execution_count": 68,
   "metadata": {
    "scrolled": true
   },
   "outputs": [
    {
     "data": {
      "text/plain": [
       "<AxesSubplot:xlabel='B_V_index', ylabel='Amag'>"
      ]
     },
     "execution_count": 68,
     "metadata": {},
     "output_type": "execute_result"
    },
    {
     "data": {
      "image/png": "[encoded data removed]",
      "text/plain": [
       "<Figure size 432x288 with 1 Axes>"
      ]
     },
     "metadata": {
      "needs_background": "light"
     },
     "output_type": "display_data"
    }
   ],
   "source": [
    "sns.boxplot(data = stars, x = 'B_V_index', y = 'Amag', hue = 'Star_Size')"
   ]
  },
  {
   "cell_type": "code",
   "execution_count": 75,
   "metadata": {},
   "outputs": [
    {
     "data": {
      "text/plain": [
       "<AxesSubplot:xlabel='Plx', ylabel='Amag'>"
      ]
     },
     "execution_count": 75,
     "metadata": {},
     "output_type": "execute_result"
    },
    {
     "data": {
      "image/png": "[encoded data removed]",
      "text/plain": [
       "<Figure size 432x288 with 1 Axes>"
      ]
     },
     "metadata": {
      "needs_background": "light"
     },
     "output_type": "display_data"
    }
   ],
   "source": [
    "sns.scatterplot(data = stars, x = 'Plx', y = 'Amag', hue = 'Star_Size')"
   ]
  },
  {
   "cell_type": "markdown",
   "metadata": {},
   "source": [
    "#### Get dummies"
   ]
  },
  {
   "cell_type": "markdown",
   "metadata": {},
   "source": [
    "#### The SpType columns has too many uniques values and is too big for get dummies\n",
    "\n",
    "So lets drop it for the moment"
   ]
  },
  {
   "cell_type": "code",
   "execution_count": 70,
   "metadata": {},
   "outputs": [],
   "source": [
    "df_1 = df.drop('SpType', axis = 1).copy()"
   ]
  },
  {
   "cell_type": "code",
   "execution_count": 71,
   "metadata": {},
   "outputs": [
    {
     "name": "stdout",
     "output_type": "stream",
     "text": [
      "<class 'pandas.core.frame.DataFrame'>\n",
      "RangeIndex: 96707 entries, 0 to 96706\n",
      "Data columns (total 7 columns):\n",
      " #   Column      Non-Null Count  Dtype  \n",
      "---  ------      --------------  -----  \n",
      " 0   Vmag        96707 non-null  float32\n",
      " 1   Plx         96707 non-null  float64\n",
      " 2   e_Plx       96707 non-null  float32\n",
      " 3   B_V         96707 non-null  float32\n",
      " 4   Amag        93556 non-null  float64\n",
      " 5   Star_Size   96707 non-null  object \n",
      " 6   Color_Type  96707 non-null  object \n",
      "dtypes: float32(3), float64(2), object(2)\n",
      "memory usage: 4.1+ MB\n"
     ]
    }
   ],
   "source": [
    "df_1.info()"
   ]
  },
  {
   "cell_type": "code",
   "execution_count": 72,
   "metadata": {},
   "outputs": [],
   "source": [
    "df_dummy = pd.get_dummies(data = df_1, columns = ['Star_Size'])"
   ]
  },
  {
   "cell_type": "code",
   "execution_count": 73,
   "metadata": {
    "collapsed": true
   },
   "outputs": [
    {
     "data": {
      "text/html": [
       "<div>\n",
       "<style scoped>\n",
       "    .dataframe tbody tr th:only-of-type {\n",
       "        vertical-align: middle;\n",
       "    }\n",
       "\n",
       "    .dataframe tbody tr th {\n",
       "        vertical-align: top;\n",
       "    }\n",
       "\n",
       "    .dataframe thead th {\n",
       "        text-align: right;\n",
       "    }\n",
       "</style>\n",
       "<table border=\"1\" class=\"dataframe\">\n",
       "  <thead>\n",
       "    <tr style=\"text-align: right;\">\n",
       "      <th></th>\n",
       "      <th>Vmag</th>\n",
       "      <th>Plx</th>\n",
       "      <th>e_Plx</th>\n",
       "      <th>B_V</th>\n",
       "      <th>Amag</th>\n",
       "      <th>Color_Type</th>\n",
       "      <th>Star_Size_Dwarf</th>\n",
       "      <th>Star_Size_Giant</th>\n",
       "      <th>Star_Size_Other</th>\n",
       "    </tr>\n",
       "  </thead>\n",
       "  <tbody>\n",
       "    <tr>\n",
       "      <th>0</th>\n",
       "      <td>9.10</td>\n",
       "      <td>0.00354</td>\n",
       "      <td>1.39</td>\n",
       "      <td>0.482</td>\n",
       "      <td>1.845017</td>\n",
       "      <td>F</td>\n",
       "      <td>0</td>\n",
       "      <td>0</td>\n",
       "      <td>1</td>\n",
       "    </tr>\n",
       "    <tr>\n",
       "      <th>1</th>\n",
       "      <td>9.27</td>\n",
       "      <td>0.02190</td>\n",
       "      <td>3.10</td>\n",
       "      <td>0.999</td>\n",
       "      <td>5.972221</td>\n",
       "      <td>K</td>\n",
       "      <td>1</td>\n",
       "      <td>0</td>\n",
       "      <td>0</td>\n",
       "    </tr>\n",
       "    <tr>\n",
       "      <th>2</th>\n",
       "      <td>6.61</td>\n",
       "      <td>0.00281</td>\n",
       "      <td>0.63</td>\n",
       "      <td>-0.019</td>\n",
       "      <td>-1.146468</td>\n",
       "      <td>A</td>\n",
       "      <td>0</td>\n",
       "      <td>0</td>\n",
       "      <td>1</td>\n",
       "    </tr>\n",
       "    <tr>\n",
       "      <th>3</th>\n",
       "      <td>8.06</td>\n",
       "      <td>0.00775</td>\n",
       "      <td>0.97</td>\n",
       "      <td>0.370</td>\n",
       "      <td>2.506509</td>\n",
       "      <td>F</td>\n",
       "      <td>1</td>\n",
       "      <td>0</td>\n",
       "      <td>0</td>\n",
       "    </tr>\n",
       "    <tr>\n",
       "      <th>4</th>\n",
       "      <td>8.55</td>\n",
       "      <td>0.00287</td>\n",
       "      <td>1.11</td>\n",
       "      <td>0.902</td>\n",
       "      <td>0.839410</td>\n",
       "      <td>K</td>\n",
       "      <td>0</td>\n",
       "      <td>1</td>\n",
       "      <td>0</td>\n",
       "    </tr>\n",
       "    <tr>\n",
       "      <th>...</th>\n",
       "      <td>...</td>\n",
       "      <td>...</td>\n",
       "      <td>...</td>\n",
       "      <td>...</td>\n",
       "      <td>...</td>\n",
       "      <td>...</td>\n",
       "      <td>...</td>\n",
       "      <td>...</td>\n",
       "      <td>...</td>\n",
       "    </tr>\n",
       "    <tr>\n",
       "      <th>96702</th>\n",
       "      <td>7.92</td>\n",
       "      <td>0.00393</td>\n",
       "      <td>1.24</td>\n",
       "      <td>0.133</td>\n",
       "      <td>0.891963</td>\n",
       "      <td>A</td>\n",
       "      <td>0</td>\n",
       "      <td>0</td>\n",
       "      <td>1</td>\n",
       "    </tr>\n",
       "    <tr>\n",
       "      <th>96703</th>\n",
       "      <td>8.72</td>\n",
       "      <td>0.00307</td>\n",
       "      <td>0.87</td>\n",
       "      <td>0.097</td>\n",
       "      <td>1.155692</td>\n",
       "      <td>A</td>\n",
       "      <td>0</td>\n",
       "      <td>0</td>\n",
       "      <td>1</td>\n",
       "    </tr>\n",
       "    <tr>\n",
       "      <th>96704</th>\n",
       "      <td>8.08</td>\n",
       "      <td>0.00107</td>\n",
       "      <td>0.68</td>\n",
       "      <td>1.094</td>\n",
       "      <td>-1.773081</td>\n",
       "      <td>K</td>\n",
       "      <td>0</td>\n",
       "      <td>0</td>\n",
       "      <td>1</td>\n",
       "    </tr>\n",
       "    <tr>\n",
       "      <th>96705</th>\n",
       "      <td>6.98</td>\n",
       "      <td>0.00297</td>\n",
       "      <td>0.76</td>\n",
       "      <td>-0.143</td>\n",
       "      <td>-0.656218</td>\n",
       "      <td>B</td>\n",
       "      <td>1</td>\n",
       "      <td>0</td>\n",
       "      <td>0</td>\n",
       "    </tr>\n",
       "    <tr>\n",
       "      <th>96706</th>\n",
       "      <td>8.51</td>\n",
       "      <td>-0.00118</td>\n",
       "      <td>1.34</td>\n",
       "      <td>1.568</td>\n",
       "      <td>NaN</td>\n",
       "      <td>M</td>\n",
       "      <td>0</td>\n",
       "      <td>1</td>\n",
       "      <td>0</td>\n",
       "    </tr>\n",
       "  </tbody>\n",
       "</table>\n",
       "<p>96707 rows × 9 columns</p>\n",
       "</div>"
      ],
      "text/plain": [
       "       Vmag      Plx  e_Plx    B_V      Amag Color_Type  Star_Size_Dwarf  \\\n",
       "0      9.10  0.00354   1.39  0.482  1.845017          F                0   \n",
       "1      9.27  0.02190   3.10  0.999  5.972221          K                1   \n",
       "2      6.61  0.00281   0.63 -0.019 -1.146468          A                0   \n",
       "3      8.06  0.00775   0.97  0.370  2.506509          F                1   \n",
       "4      8.55  0.00287   1.11  0.902  0.839410          K                0   \n",
       "...     ...      ...    ...    ...       ...        ...              ...   \n",
       "96702  7.92  0.00393   1.24  0.133  0.891963          A                0   \n",
       "96703  8.72  0.00307   0.87  0.097  1.155692          A                0   \n",
       "96704  8.08  0.00107   0.68  1.094 -1.773081          K                0   \n",
       "96705  6.98  0.00297   0.76 -0.143 -0.656218          B                1   \n",
       "96706  8.51 -0.00118   1.34  1.568       NaN          M                0   \n",
       "\n",
       "       Star_Size_Giant  Star_Size_Other  \n",
       "0                    0                1  \n",
       "1                    0                0  \n",
       "2                    0                1  \n",
       "3                    0                0  \n",
       "4                    1                0  \n",
       "...                ...              ...  \n",
       "96702                0                1  \n",
       "96703                0                1  \n",
       "96704                0                1  \n",
       "96705                0                0  \n",
       "96706                1                0  \n",
       "\n",
       "[96707 rows x 9 columns]"
      ]
     },
     "execution_count": 73,
     "metadata": {},
     "output_type": "execute_result"
    }
   ],
   "source": [
    "df_dummy"
   ]
  },
  {
   "cell_type": "code",
   "execution_count": 74,
   "metadata": {},
   "outputs": [
    {
     "name": "stderr",
     "output_type": "stream",
     "text": [
      "C:\\Users\\bruna\\anaconda3\\lib\\site-packages\\seaborn\\_decorators.py:36: FutureWarning: Pass the following variable as a keyword arg: x. From version 0.12, the only valid positional argument will be `data`, and passing other arguments without an explicit keyword will result in an error or misinterpretation.\n",
      "  warnings.warn(\n"
     ]
    },
    {
     "data": {
      "text/plain": [
       "<AxesSubplot:xlabel='Star_Size', ylabel='count'>"
      ]
     },
     "execution_count": 74,
     "metadata": {},
     "output_type": "execute_result"
    },
    {
     "data": {
      "image/png": "[encoded data removed]",
      "text/plain": [
       "<Figure size 432x288 with 1 Axes>"
      ]
     },
     "metadata": {
      "needs_background": "light"
     },
     "output_type": "display_data"
    }
   ],
   "source": [
    "sns.countplot(df.Star_Size)"
   ]
  },
  {
   "cell_type": "code",
   "execution_count": null,
   "metadata": {},
   "outputs": [],
   "source": []
  },
  {
   "cell_type": "code",
   "execution_count": null,
   "metadata": {},
   "outputs": [],
   "source": []
  }
 ],
 "metadata": {
  "kernelspec": {
   "display_name": "Python 3",
   "language": "python",
   "name": "python3"
  },
  "language_info": {
   "codemirror_mode": {
    "name": "ipython",
    "version": 3
   },
   "file_extension": ".py",
   "mimetype": "text/x-python",
   "name": "python",
   "nbconvert_exporter": "python",
   "pygments_lexer": "ipython3",
   "version": "3.8.5"
  }
 },
 "nbformat": 4,
 "nbformat_minor": 4
}
